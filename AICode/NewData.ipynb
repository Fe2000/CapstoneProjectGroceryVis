{
 "cells": [
  {
   "cell_type": "code",
   "execution_count": 1,
   "id": "098e9fa0",
   "metadata": {},
   "outputs": [],
   "source": [
    "import numpy as np                       # used for matrices\n",
    "from PIL import Image                    # used to read images\n",
    "from matplotlib import pyplot as plt     # used to display images inline\n",
    "import cv2\n",
    "import math\n",
    "import os"
   ]
  },
  {
   "cell_type": "code",
   "execution_count": 2,
   "id": "c3d27bef",
   "metadata": {},
   "outputs": [
    {
     "name": "stdout",
     "output_type": "stream",
     "text": [
      "Files and directories in ' C://Users//Fernando//Desktop//NewDataVid//Videos ' :\n",
      "['ConEmpty.mov', 'ConEmpty1.mov', 'ConEmpty2.mov', 'ConEmpty3.mov', 'ConEmpty4.mov', 'ConEmptyAppleMilkEggsPasta.mov', 'ConEmptyEggsMilkPeanutPasta.mov', 'ConEmptyMilkEggs.mov', 'ConEmptyMilkEggsPeanutPasta.mov', 'ConFull.mov', 'ConFull1.mov', 'ConFull2.mov', 'ConFull3.mov', 'ConFullAppleMilkEggs.mov', 'ConFullMilkEggsPasta.mov', 'ConFullMilkEggsPeanutPasta.mov', 'ConHigh.mov', 'ConHigh1.mov', 'ConHigh2.mov', 'ConHigh3.mov', 'ConHighAppleMilk.mov', 'ConHighMilkEggsApplePasta.mov', 'ConHighMilkPeanutPasta.mov', 'ConLow.mov', 'ConLow1.mov', 'ConLow2.mov', 'ConLowAppleMilkPasta.mov', 'ConLowMilkApplePasta.mov', 'ConMiddle.mov', 'ConMiddle1.mov', 'ConMiddle2.mov', 'ConMiddle3.mov', 'ConMiddleAppleMilkPasta.mov', 'ConMiddleAppleMilkPeanutPasta.mov', 'ConMiddleApplePeanutPastaMilk.mov']\n"
     ]
    }
   ],
   "source": [
    "path = \"C://Users//Fernando//Desktop//NewDataVid//Videos\"\n",
    "dir_list = os.listdir(path)\n",
    " \n",
    "print(\"Files and directories in '\", path, \"' :\")\n",
    " \n",
    "# prints all files\n",
    "print(dir_list)"
   ]
  },
  {
   "cell_type": "code",
   "execution_count": 6,
   "id": "cc636a8f",
   "metadata": {},
   "outputs": [],
   "source": [
    "AllCount = 0"
   ]
  },
  {
   "cell_type": "code",
   "execution_count": 7,
   "id": "1ef0701a",
   "metadata": {},
   "outputs": [
    {
     "name": "stdout",
     "output_type": "stream",
     "text": [
      "Videos//ConEmpty.mov\n",
      "Videos//ConEmpty1.mov\n",
      "Videos//ConEmpty2.mov\n",
      "Videos//ConEmpty3.mov\n",
      "Videos//ConEmpty4.mov\n",
      "Videos//ConEmptyAppleMilkEggsPasta.mov\n",
      "Videos//ConEmptyEggsMilkPeanutPasta.mov\n",
      "Videos//ConEmptyMilkEggs.mov\n",
      "Videos//ConEmptyMilkEggsPeanutPasta.mov\n",
      "Videos//ConFull.mov\n",
      "Videos//ConFull1.mov\n",
      "Videos//ConFull2.mov\n",
      "Videos//ConFull3.mov\n",
      "Videos//ConFullAppleMilkEggs.mov\n",
      "Videos//ConFullMilkEggsPasta.mov\n",
      "Videos//ConFullMilkEggsPeanutPasta.mov\n",
      "Videos//ConHigh.mov\n",
      "Videos//ConHigh1.mov\n",
      "Videos//ConHigh2.mov\n",
      "Videos//ConHigh3.mov\n",
      "Videos//ConHighAppleMilk.mov\n",
      "Videos//ConHighMilkEggsApplePasta.mov\n",
      "Videos//ConHighMilkPeanutPasta.mov\n",
      "Videos//ConLow.mov\n",
      "Videos//ConLow1.mov\n",
      "Videos//ConLow2.mov\n",
      "Videos//ConLowAppleMilkPasta.mov\n",
      "Videos//ConLowMilkApplePasta.mov\n",
      "Videos//ConMiddle.mov\n",
      "Videos//ConMiddle1.mov\n",
      "Videos//ConMiddle2.mov\n",
      "Videos//ConMiddle3.mov\n",
      "Videos//ConMiddleAppleMilkPasta.mov\n",
      "Videos//ConMiddleAppleMilkPeanutPasta.mov\n",
      "Videos//ConMiddleApplePeanutPastaMilk.mov\n"
     ]
    }
   ],
   "source": [
    "for i in dir_list:\n",
    "    path = 'Videos//'+i\n",
    "    print(path)\n",
    "    moddedName = i[:4]\n",
    "    vidcap = cv2.VideoCapture(path)\n",
    "    success,image = vidcap.read()\n",
    "    while success:\n",
    "        cv2.imwrite(\"NewNamedSet/\"+moddedName+\"%d.jpg\" % AllCount, image)     # save frame as JPEG file      \n",
    "        success,image = vidcap.read()\n",
    "        #print('Read a new frame: ', success)\n",
    "        AllCount += 1"
   ]
  }
 ],
 "metadata": {
  "kernelspec": {
   "display_name": "Python 3.8.5 64-bit",
   "language": "python",
   "name": "python3"
  },
  "language_info": {
   "codemirror_mode": {
    "name": "ipython",
    "version": 3
   },
   "file_extension": ".py",
   "mimetype": "text/x-python",
   "name": "python",
   "nbconvert_exporter": "python",
   "pygments_lexer": "ipython3",
   "version": "3.8.5"
  },
  "vscode": {
   "interpreter": {
    "hash": "9650cb4e16cdd4a8e8e2d128bf38d875813998db22a3c986335f89e0cb4d7bb2"
   }
  }
 },
 "nbformat": 4,
 "nbformat_minor": 5
}
